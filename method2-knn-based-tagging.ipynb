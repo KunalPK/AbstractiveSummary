{
  "nbformat": 4,
  "nbformat_minor": 0,
  "metadata": {
    "colab": {
      "provenance": []
    },
    "kernelspec": {
      "name": "python3",
      "display_name": "Python 3"
    },
    "language_info": {
      "name": "python"
    }
  },
  "cells": [
    {
      "cell_type": "markdown",
      "source": [
        "#### Method2 - KNN based tagging\n",
        "##### Author : Kunal Kalwankar"
      ],
      "metadata": {
        "id": "Y1N9MHyl77RL"
      }
    },
    {
      "cell_type": "code",
      "execution_count": null,
      "metadata": {
        "id": "X3CMcmt_XTRi"
      },
      "outputs": [],
      "source": [
        "#imports and confing\n",
        "\n",
        "import pandas as pd\n",
        "import os\n",
        "from google.colab import drive\n",
        "drive.mount('/content/gdrive')\n",
        "os.chdir('/content/gdrive/MyDrive/cnn_dailymail')\n",
        "!pip install Cython\n",
        "import re\n",
        "from pprint import pprint\n",
        "import warnings\n",
        "warnings.filterwarnings(\"ignore\",category=DeprecationWarning)"
      ]
    },
    {
      "cell_type": "code",
      "source": [
        "#import tagged data\n",
        "\n",
        "data = pd.read_csv('masterdata.csv')\n",
        "print(data.head())"
      ],
      "metadata": {
        "id": "VFwffv97fBNG"
      },
      "execution_count": null,
      "outputs": []
    },
    {
      "cell_type": "code",
      "source": [
        "# Function to remove extra blanks\n",
        "\n",
        "def blankremover(x):\n",
        "  x = [i for i in x if ''!=i]\n",
        "  return x\n",
        "\n",
        "# Preprocessing for text cleaning. Removal of syntax\n",
        "data['article_list'] = data['article'].apply(lambda x: x.replace('..', \".\"))\n",
        "data['article_list'] = data['article_list'].apply(lambda x: x.replace('.', \" \"))\n",
        "data['article_list'] = data['article_list'].apply(lambda x:\"\".join(re.split(r'|\\?|`|\\‘|\\’|#|\\”|\\}|\\{|\\)|\\(|\\]|\\[|\\\"|\\'|-|=|,|:|;', x.lower())))\n",
        "data['article_list'] = data['article_list'].apply(lambda x:re.split(r'\\s', x.lower()))\n",
        "data['article_list'] = data['article_list'].apply(lambda x:blankremover(x))\n",
        "data_list = data['article_list'].apply(lambda x:\" \".join(x))"
      ],
      "metadata": {
        "id": "lhS6Z5eKjUVv"
      },
      "execution_count": null,
      "outputs": []
    },
    {
      "cell_type": "code",
      "source": [
        "# TFIDF Creation process\n",
        "\n",
        "from sklearn.feature_extraction.text import TfidfVectorizer\n",
        "vectorizer = TfidfVectorizer()\n",
        "X = vectorizer.fit_transform(data_list)\n",
        "print(X.shape)\n",
        "test = list(vectorizer.get_feature_names_out())"
      ],
      "metadata": {
        "id": "1CNYJc2H634M"
      },
      "execution_count": null,
      "outputs": []
    },
    {
      "cell_type": "code",
      "source": [
        "#SVD Creation Process\n",
        "from sklearn.decomposition import  TruncatedSVD\n",
        "\n",
        "svd =  TruncatedSVD(1000)\n",
        "svd.fit(X)\n",
        "print(svd.explained_variance_ratio_.sum())\n",
        "print(svd.singular_values_)\n",
        "tns = svd.transform(X)\n",
        "\n",
        "print(tns.shape)"
      ],
      "metadata": {
        "id": "ur1w-LG--F6X"
      },
      "execution_count": null,
      "outputs": []
    },
    {
      "cell_type": "code",
      "source": [
        "# Kmeans cluster generation techinque\n",
        "\n",
        "from sklearn.cluster import KMeans\n",
        "kmeans = KMeans(n_clusters=3, random_state=0).fit(tns)\n",
        "print(kmeans.labels_)\n",
        "print(kmeans.cluster_centers_)\n",
        "m = list(kmeans.predict(tns))"
      ],
      "metadata": {
        "id": "BDYmbxPTCt3z"
      },
      "execution_count": null,
      "outputs": []
    },
    {
      "cell_type": "code",
      "source": [
        "#save the cluster tags for further usage\n",
        "pd.DataFrame({'classname':m}).to_csv('KNN3.csv')"
      ],
      "metadata": {
        "id": "NsHqwISlGbo_"
      },
      "execution_count": null,
      "outputs": []
    },
    {
      "cell_type": "code",
      "source": [
        "#elbow plot generation functions\n",
        "\n",
        "from matplotlib import pyplot as plt\n",
        "import seaborn as sns\n",
        "\n",
        "def elbow_plot(df):\n",
        "\n",
        "    sse = {}\n",
        "    \n",
        "    for k in range(2, 15):\n",
        "        print('KNN - K value: ',k)\n",
        "        kmeans = KMeans(n_clusters=k, random_state=1)\n",
        "        kmeans.fit(df)\n",
        "        sse[k] = kmeans.inertia_\n",
        "    \n",
        "    plt.title('Elbow plot for K selection')\n",
        "    plt.xlabel('k')\n",
        "    plt.ylabel('SSE')\n",
        "    sns.pointplot(x=list(sse.keys()),\n",
        "                 y=list(sse.values()))\n",
        "    plt.show()\n",
        "\n",
        "#display elbowplot\n",
        "elbow_plot(tns)"
      ],
      "metadata": {
        "id": "xC2J0Kn4Infv"
      },
      "execution_count": null,
      "outputs": []
    }
  ]
}