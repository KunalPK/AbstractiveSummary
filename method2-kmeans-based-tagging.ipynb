{
 "cells": [
  {
   "cell_type": "markdown",
   "metadata": {
    "id": "Y1N9MHyl77RL"
   },
   "source": [
    "#### Method2 - Kmeans based tagging\n",
    "##### Author : Kunal Kalwankar"
   ]
  },
  {
   "cell_type": "code",
   "execution_count": null,
   "metadata": {
    "id": "X3CMcmt_XTRi"
   },
   "outputs": [],
   "source": [
    "#imports and confing\n",
    "\n",
    "import pandas as pd\n",
    "import os\n",
    "from google.colab import drive\n",
    "drive.mount('/content/gdrive')\n",
    "os.chdir('/content/gdrive/MyDrive/cnn_dailymail')\n",
    "!pip install Cython\n",
    "import re\n",
    "from pprint import pprint\n",
    "import warnings\n",
    "warnings.filterwarnings(\"ignore\",category=DeprecationWarning)"
   ]
  },
  {
   "cell_type": "code",
   "execution_count": null,
   "metadata": {
    "id": "VFwffv97fBNG"
   },
   "outputs": [],
   "source": [
    "#import tagged data\n",
    "\n",
    "data = pd.read_csv('masterdata.csv')\n",
    "print(data.head())"
   ]
  },
  {
   "cell_type": "code",
   "execution_count": null,
   "metadata": {
    "id": "lhS6Z5eKjUVv"
   },
   "outputs": [],
   "source": [
    "# Function to remove extra blanks\n",
    "\n",
    "def blankremover(x):\n",
    "  x = [i for i in x if ''!=i]\n",
    "  return x\n",
    "\n",
    "# Preprocessing for text cleaning. Removal of syntax\n",
    "data['article_list'] = data['article'].apply(lambda x: x.replace('..', \".\"))\n",
    "data['article_list'] = data['article_list'].apply(lambda x: x.replace('.', \" \"))\n",
    "data['article_list'] = data['article_list'].apply(lambda x:\"\".join(re.split(r'|\\?|`|\\‘|\\’|#|\\”|\\}|\\{|\\)|\\(|\\]|\\[|\\\"|\\'|-|=|,|:|;', x.lower())))\n",
    "data['article_list'] = data['article_list'].apply(lambda x:re.split(r'\\s', x.lower()))\n",
    "data['article_list'] = data['article_list'].apply(lambda x:blankremover(x))\n",
    "data_list = data['article_list'].apply(lambda x:\" \".join(x))"
   ]
  },
  {
   "cell_type": "code",
   "execution_count": null,
   "metadata": {
    "id": "1CNYJc2H634M"
   },
   "outputs": [],
   "source": [
    "# TFIDF Creation process\n",
    "\n",
    "from sklearn.feature_extraction.text import TfidfVectorizer\n",
    "vectorizer = TfidfVectorizer()\n",
    "X = vectorizer.fit_transform(data_list)\n",
    "print(X.shape)\n",
    "test = list(vectorizer.get_feature_names_out())"
   ]
  },
  {
   "cell_type": "code",
   "execution_count": null,
   "metadata": {
    "id": "ur1w-LG--F6X"
   },
   "outputs": [],
   "source": [
    "#SVD Creation Process\n",
    "from sklearn.decomposition import  TruncatedSVD\n",
    "\n",
    "svd =  TruncatedSVD(1000)\n",
    "svd.fit(X)\n",
    "print(svd.explained_variance_ratio_.sum())\n",
    "print(svd.singular_values_)\n",
    "tns = svd.transform(X)\n",
    "\n",
    "print(tns.shape)"
   ]
  },
  {
   "cell_type": "code",
   "execution_count": null,
   "metadata": {
    "id": "BDYmbxPTCt3z"
   },
   "outputs": [],
   "source": [
    "# Kmeans cluster generation techinque\n",
    "\n",
    "from sklearn.cluster import KMeans\n",
    "kmeans = KMeans(n_clusters=3, random_state=0).fit(tns)\n",
    "print(kmeans.labels_)\n",
    "print(kmeans.cluster_centers_)\n",
    "m = list(kmeans.predict(tns))"
   ]
  },
  {
   "cell_type": "code",
   "execution_count": null,
   "metadata": {
    "id": "NsHqwISlGbo_"
   },
   "outputs": [],
   "source": [
    "#save the cluster tags for further usage\n",
    "pd.DataFrame({'classname':m}).to_csv('KNN3.csv')"
   ]
  },
  {
   "cell_type": "code",
   "execution_count": null,
   "metadata": {
    "id": "xC2J0Kn4Infv"
   },
   "outputs": [],
   "source": [
    "#elbow plot generation functions\n",
    "\n",
    "from matplotlib import pyplot as plt\n",
    "import seaborn as sns\n",
    "\n",
    "def elbow_plot(df):\n",
    "\n",
    "    sse = {}\n",
    "    \n",
    "    for k in range(2, 15):\n",
    "        print('KNN - K value: ',k)\n",
    "        kmeans = KMeans(n_clusters=k, random_state=1)\n",
    "        kmeans.fit(df)\n",
    "        sse[k] = kmeans.inertia_\n",
    "    \n",
    "    plt.title('Elbow plot for K selection')\n",
    "    plt.xlabel('k')\n",
    "    plt.ylabel('SSE')\n",
    "    sns.pointplot(x=list(sse.keys()),\n",
    "                 y=list(sse.values()))\n",
    "    plt.show()\n",
    "\n",
    "#display elbowplot\n",
    "elbow_plot(tns)"
   ]
  }
 ],
 "metadata": {
  "colab": {
   "provenance": []
  },
  "kernelspec": {
   "display_name": "Python 3 (ipykernel)",
   "language": "python",
   "name": "python3"
  },
  "language_info": {
   "codemirror_mode": {
    "name": "ipython",
    "version": 3
   },
   "file_extension": ".py",
   "mimetype": "text/x-python",
   "name": "python",
   "nbconvert_exporter": "python",
   "pygments_lexer": "ipython3",
   "version": "3.9.7"
  }
 },
 "nbformat": 4,
 "nbformat_minor": 1
}
