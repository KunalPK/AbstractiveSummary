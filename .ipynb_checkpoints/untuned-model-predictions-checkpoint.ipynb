{
 "cells": [
  {
   "cell_type": "markdown",
   "metadata": {},
   "source": [
    "#### UNTUNED MODEL PREDICTION CODE\n",
    "##### Author : Kunal Kalwankar"
   ]
  },
  {
   "cell_type": "code",
   "execution_count": null,
   "metadata": {
    "_cell_guid": "b1076dfc-b9ad-4769-8c92-a6c4dae69d19",
    "_uuid": "8f2839f25d086af736a60e9eeb907d3b93b6e0e5",
    "execution": {
     "iopub.execute_input": "2023-01-14T08:40:08.060864Z",
     "iopub.status.busy": "2023-01-14T08:40:08.060336Z",
     "iopub.status.idle": "2023-01-14T08:40:41.713803Z",
     "shell.execute_reply": "2023-01-14T08:40:41.712742Z",
     "shell.execute_reply.started": "2023-01-14T08:40:08.060818Z"
    }
   },
   "outputs": [],
   "source": [
    "#Imports\n",
    "import numpy as np\n",
    "import pandas as pd\n",
    "import os      \n",
    "import torch\n",
    "import json\n",
    "!pip install simplet5\n",
    "import torch\n",
    "import json \n",
    "from sklearn.model_selection import train_test_split"
   ]
  },
  {
   "cell_type": "code",
   "execution_count": null,
   "metadata": {
    "execution": {
     "iopub.execute_input": "2023-01-14T08:45:58.451620Z",
     "iopub.status.busy": "2023-01-14T08:45:58.450840Z",
     "iopub.status.idle": "2023-01-14T08:46:18.538206Z",
     "shell.execute_reply": "2023-01-14T08:46:18.536863Z",
     "shell.execute_reply.started": "2023-01-14T08:45:58.451582Z"
    }
   },
   "outputs": [],
   "source": [
    "# Import pretrained model\n",
    "from simplet5 import SimpleT5\n",
    "model = SimpleT5()\n",
    "model.from_pretrained(model_type=\"t5\", model_name=\"t5-base\")"
   ]
  },
  {
   "cell_type": "code",
   "execution_count": null,
   "metadata": {
    "execution": {
     "iopub.execute_input": "2023-01-14T08:57:51.176878Z",
     "iopub.status.busy": "2023-01-14T08:57:51.176278Z",
     "iopub.status.idle": "2023-01-14T08:57:53.520877Z",
     "shell.execute_reply": "2023-01-14T08:57:53.519886Z",
     "shell.execute_reply.started": "2023-01-14T08:57:51.176828Z"
    }
   },
   "outputs": [],
   "source": [
    "#importing pre deicded testids for all the topics. These were split 90-10 only once for all iterations and saved\n",
    "import os\n",
    "os.listdir('/kaggle/input/cnndm-tagged-subset')\n",
    "data = pd.read_csv('/kaggle/input/cnndm-tagged-subset/masterdata.csv')\n",
    "t1 = pd.read_csv('/kaggle/input/testids/testids_1_to_5.csv')\n",
    "t2 = pd.read_csv('/kaggle/input/testids/testids_2_to_5.csv')\n",
    "t3 = pd.read_csv('/kaggle/input/testids/testids_3_to_5.csv')\n",
    "t4 = pd.read_csv('/kaggle/input/testids/testids_4_to_5.csv')\n",
    "t5 = pd.read_csv('/kaggle/input/testids/testids_5_to_5.csv')\n",
    "t = pd.concat([t1,t2,t3,t4,t5])\n",
    "test = data[data['id'].isin(list(t['TESTIDS']))]\n",
    "train = data[~data['id'].isin(list(t['TESTIDS']))]"
   ]
  },
  {
   "cell_type": "code",
   "execution_count": null,
   "metadata": {
    "execution": {
     "iopub.execute_input": "2023-01-14T08:57:57.208370Z",
     "iopub.status.busy": "2023-01-14T08:57:57.208003Z",
     "iopub.status.idle": "2023-01-14T08:57:57.215222Z",
     "shell.execute_reply": "2023-01-14T08:57:57.214197Z",
     "shell.execute_reply.started": "2023-01-14T08:57:57.208339Z"
    }
   },
   "outputs": [],
   "source": [
    "# Hyperparameters\n",
    "MAX_LEN = 512\n",
    "SUMMARY_LEN = 150\n",
    "\n",
    "# Getting test datapoints\n",
    "test_article = list(test['article'])[250:]\n",
    "test_highlight = list(test['highlights'])[250:]"
   ]
  },
  {
   "cell_type": "code",
   "execution_count": null,
   "metadata": {
    "execution": {
     "iopub.execute_input": "2023-02-01T17:52:10.668276Z",
     "iopub.status.busy": "2023-02-01T17:52:10.667664Z",
     "iopub.status.idle": "2023-02-01T17:53:03.452796Z",
     "shell.execute_reply": "2023-02-01T17:53:03.451290Z",
     "shell.execute_reply.started": "2023-02-01T17:52:10.668172Z"
    }
   },
   "outputs": [],
   "source": [
    "#import pretrained model\n",
    "from transformers import T5Tokenizer, T5ForConditionalGeneration, T5Config\n",
    "no_tune_model = T5ForConditionalGeneration.from_pretrained('t5-base')\n",
    "tokenizer = T5Tokenizer.from_pretrained('t5-base')\n",
    "device = torch.device('cpu')"
   ]
  },
  {
   "cell_type": "code",
   "execution_count": null,
   "metadata": {
    "execution": {
     "iopub.execute_input": "2023-01-14T08:58:00.554601Z",
     "iopub.status.busy": "2023-01-14T08:58:00.554200Z",
     "iopub.status.idle": "2023-01-14T08:58:14.816563Z",
     "shell.execute_reply": "2023-01-14T08:58:14.815573Z",
     "shell.execute_reply.started": "2023-01-14T08:58:00.554566Z"
    }
   },
   "outputs": [],
   "source": [
    "#preprocess the test inputs sequenctially to get in the final format\n",
    "preprocess_text = [i.strip().replace(\"\\n\",\"\") for i in test_article]\n",
    "t5_prepared_Text = [\"summarize: \"+i for i in preprocess_text]\n",
    "tokenized_text = [tokenizer.encode(i, return_tensors=\"pt\").to(device) for i in t5_prepared_Text]\n",
    "summary_ids = [no_tune_model.generate(i,\n",
    "                                    num_beams=4,\n",
    "                                    no_repeat_ngram_size=2,\n",
    "                                    min_length=30,\n",
    "                                    max_length=SUMMARY_LEN,\n",
    "                                    early_stopping=True) for i in tokenized_text]\n",
    "\n",
    "output = [tokenizer.decode(i[0], skip_special_tokens=True) for i in summary_ids]\n",
    "\n",
    "\n",
    "#Save the predicted outcode for metric calculator\n",
    "notune = pd.DataFrame({'outcome':list(output)})\n",
    "notune.to_csv('outcomenotune_t5base_1.csv')"
   ]
  }
 ],
 "metadata": {
  "kernelspec": {
   "display_name": "Python 3 (ipykernel)",
   "language": "python",
   "name": "python3"
  },
  "language_info": {
   "codemirror_mode": {
    "name": "ipython",
    "version": 3
   },
   "file_extension": ".py",
   "mimetype": "text/x-python",
   "name": "python",
   "nbconvert_exporter": "python",
   "pygments_lexer": "ipython3",
   "version": "3.9.7"
  }
 },
 "nbformat": 4,
 "nbformat_minor": 4
}
